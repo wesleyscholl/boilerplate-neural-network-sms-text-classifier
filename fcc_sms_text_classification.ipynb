{
  "cells": [
    {
      "cell_type": "markdown",
      "metadata": {
        "id": "view-in-github",
        "colab_type": "text"
      },
      "source": [
        "<a href=\"https://colab.research.google.com/github/wesleyscholl/boilerplate-neural-network-sms-text-classifier/blob/main/fcc_sms_text_classification.ipynb\" target=\"_parent\"><img src=\"https://colab.research.google.com/assets/colab-badge.svg\" alt=\"Open In Colab\"/></a>"
      ]
    },
    {
      "cell_type": "code",
      "execution_count": null,
      "metadata": {
        "id": "8RZOuS9LWQvv"
      },
      "outputs": [],
      "source": [
        "# import libraries\n",
        "try:\n",
        "  # %tensorflow_version only exists in Colab.\n",
        "  !pip install tf-nightly\n",
        "except Exception:\n",
        "  pass\n",
        "import tensorflow as tf\n",
        "import pandas as pd\n",
        "from tensorflow import keras\n",
        "!pip install tensorflow-datasets\n",
        "import tensorflow_datasets as tfds\n",
        "import numpy as np\n",
        "import matplotlib.pyplot as plt\n",
        "\n",
        "print(tf.__version__)"
      ]
    },
    {
      "cell_type": "code",
      "execution_count": null,
      "metadata": {
        "id": "lMHwYXHXCar3"
      },
      "outputs": [],
      "source": [
        "# get data files\n",
        "!wget https://cdn.freecodecamp.org/project-data/sms/train-data.tsv\n",
        "!wget https://cdn.freecodecamp.org/project-data/sms/valid-data.tsv\n",
        "\n",
        "train_file_path = \"train-data.tsv\"\n",
        "test_file_path = \"valid-data.tsv\""
      ]
    },
    {
      "cell_type": "code",
      "execution_count": null,
      "metadata": {
        "id": "g_h508FEClxO"
      },
      "outputs": [],
      "source": [
        "# In this challenge, you need to create a machine learning model that will classify SMS messages as either \"ham\" or \"spam\".\n",
        "# A \"ham\" message is a normal message sent by a friend. A \"spam\" message is an advertisement or a message sent by a company.\n",
        "\n",
        "# You should create a function called predict_message that takes a message string as an argument and returns a list.\n",
        "# The first element in the list should be a number between zero and one that indicates the likeliness of \"ham\" (0) or \"spam\" (1).\n",
        "# The second element in the list should be the word \"ham\" or \"spam\", depending on which is most likely.\n",
        "\n",
        "# For this challenge, you will use the SMS Spam Collection dataset. The dataset has already been grouped into train data and test data.\n",
        "\n",
        "# The first two cells import the libraries and data. The final cell tests your model and function. Add your code in between these cells."
      ]
    },
    {
      "cell_type": "code",
      "execution_count": null,
      "metadata": {
        "id": "J9tD9yACG6M9"
      },
      "outputs": [],
      "source": [
        "# function to predict messages based on model\n",
        "# (should return list containing prediction and label, ex. [0.008318834938108921, 'ham'])\n",
        "def predict_message(pred_text):\n",
        "  \"\"\"Predicts whether a message is ham or spam using a trained machine learning model.\n",
        "\n",
        "  Args:\n",
        "    pred_text: The message string to be predicted.\n",
        "\n",
        "  Returns:\n",
        "    A list containing the prediction value (between 0 and 1) and the predicted label ('ham' or 'spam').\n",
        "  \"\"\"\n",
        "\n",
        "  # Load training and validation data from TSV files using pandas.\n",
        "  train_data = pd.read_csv('train-data.tsv', sep='\\t', header=None, names=['label', 'message'])\n",
        "  test_data = pd.read_csv('valid-data.tsv', sep='\\t', header=None, names=['label', 'message'])\n",
        "\n",
        "  # Convert labels to numerical values: 'ham' -> 0, 'spam' -> 1\n",
        "  train_data['label'] = train_data['label'].map({'ham': 0, 'spam': 1})\n",
        "  test_data['label'] = test_data['label'].map({'ham': 0, 'spam': 1})\n",
        "\n",
        "  # Create a TensorFlow tokenizer to convert text to numerical sequences.\n",
        "  # num_words: Maximum number of words to keep in the vocabulary.\n",
        "  # oov_token: Token for out-of-vocabulary words.\n",
        "  tokenizer = tf.keras.preprocessing.text.Tokenizer(num_words=10000, oov_token='<OOV>')\n",
        "\n",
        "  # Fit the tokenizer on the training messages to build the vocabulary.\n",
        "  tokenizer.fit_on_texts(train_data['message'])\n",
        "\n",
        "  # Convert training and validation messages to numerical sequences using the tokenizer.\n",
        "  train_sequences = tokenizer.texts_to_sequences(train_data['message'])\n",
        "  test_sequences = tokenizer.texts_to_sequences(test_data['message'])\n",
        "\n",
        "  # Pad sequences to ensure uniform length for the model input.\n",
        "  # padding='post': Add padding to the end of sequences.\n",
        "  # maxlen=120: Maximum length of the sequences.\n",
        "  train_padded = tf.keras.preprocessing.sequence.pad_sequences(train_sequences, padding='post', maxlen=120)\n",
        "  test_padded = tf.keras.preprocessing.sequence.pad_sequences(test_sequences, padding='post', maxlen=120)\n",
        "\n",
        "  # Create a sequential model using Keras.\n",
        "  model = tf.keras.Sequential([\n",
        "      # Embedding layer to represent words as dense vectors.\n",
        "      tf.keras.layers.Embedding(10000, 16),\n",
        "      # Global average pooling to reduce the dimensionality of the embeddings.\n",
        "      tf.keras.layers.GlobalAveragePooling1D(),\n",
        "      # Dense layer with ReLU activation for feature extraction.\n",
        "      tf.keras.layers.Dense(16, activation='relu'),\n",
        "      # Output layer with sigmoid activation for binary classification (ham/spam).\n",
        "      tf.keras.layers.Dense(1, activation='sigmoid')\n",
        "  ])\n",
        "\n",
        "  # Compile the model with appropriate loss function, optimizer, and metrics.\n",
        "  # loss='binary_crossentropy': Suitable for binary classification.\n",
        "  # optimizer='adam': A common optimization algorithm.\n",
        "  # metrics=['accuracy']: To evaluate the model's performance.\n",
        "  model.compile(loss='binary_crossentropy', optimizer='adam', metrics=['accuracy'])\n",
        "\n",
        "  # Train the model using the training data and validate with validation data.\n",
        "  # epochs=30: Increased number of times the model iterates over the entire training data.\n",
        "  # validation_data: Data used to monitor the model's performance during training.\n",
        "  model.fit(train_padded, train_data['label'], epochs=60, validation_data=(test_padded, test_data['label']))\n",
        "\n",
        "  # Preprocess the input message for prediction.\n",
        "  pred_sequence = tokenizer.texts_to_sequences([pred_text])\n",
        "  pred_padded = tf.keras.preprocessing.sequence.pad_sequences(pred_sequence, padding='post', maxlen=120)\n",
        "\n",
        "  # Make the prediction using the trained model.\n",
        "  prediction_value = model.predict(pred_padded)[0][0]\n",
        "\n",
        "  # Determine the predicted label based on the prediction value.\n",
        "  prediction_label = 'ham' if prediction_value < 0.5 else 'spam'\n",
        "\n",
        "  # Return the prediction value and label.\n",
        "  return [prediction_value, prediction_label]\n",
        "\n",
        "pred_text = \"how are you doing today?\"\n",
        "\n",
        "prediction = predict_message(pred_text)\n",
        "print(prediction)"
      ]
    },
    {
      "cell_type": "code",
      "execution_count": null,
      "metadata": {
        "id": "Dxotov85SjsC"
      },
      "outputs": [],
      "source": [
        "# Run this cell to test your function and model. Do not modify contents.\n",
        "def test_predictions():\n",
        "  test_messages = [\"how are you doing today\",\n",
        "                   \"sale today! to stop texts call 98912460324\",\n",
        "                   \"i dont want to go. can we try it a different day? available sat\",\n",
        "                   \"our new mobile video service is live. just install on your phone to start watching.\",\n",
        "                   \"you have won £1000 cash! call to claim your prize.\",\n",
        "                   \"i'll bring it tomorrow. don't forget the milk.\",\n",
        "                   \"wow, is your arm alright. that happened to me one time too\"\n",
        "                  ]\n",
        "\n",
        "  test_answers = [\"ham\", \"spam\", \"ham\", \"spam\", \"spam\", \"ham\", \"ham\"]\n",
        "  passed = True\n",
        "\n",
        "  for msg, ans in zip(test_messages, test_answers):\n",
        "    prediction = predict_message(msg)\n",
        "    if prediction[1] != ans:\n",
        "      passed = False\n",
        "\n",
        "  if passed:\n",
        "    print(\"You passed the challenge. Great job!\")\n",
        "  else:\n",
        "    print(\"You haven't passed yet. Keep trying.\")\n",
        "\n",
        "test_predictions()\n"
      ]
    }
  ],
  "metadata": {
    "colab": {
      "private_outputs": true,
      "provenance": [],
      "include_colab_link": true
    },
    "kernelspec": {
      "display_name": "Python 3",
      "name": "python3"
    }
  },
  "nbformat": 4,
  "nbformat_minor": 0
}
